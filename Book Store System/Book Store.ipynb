{
 "cells": [
  {
   "cell_type": "markdown",
   "id": "e6665e24-7e54-48b6-8ec4-32da9c40d82f",
   "metadata": {},
   "source": [
    "Imagine you run an online bookstore, and you want to develop a basic customer order processing system using Python. This system will allow you to manage customer orders, calculate the total cost, and check for available stock before confirming an order.\n",
    "\n",
    "Problem Statement\n",
    "You need to:\n",
    "\n",
    "Maintain a catalog of books with their prices and available quantities.\n",
    "Allow customers to place orders, specifying the book ID and quantity.\n",
    "Check if the requested quantity is available in stock.\n",
    "Calculate the total cost of the order.\n",
    "Update the inventory after the order is placed.\n",
    "Generate a summary of the order."
   ]
  },
  {
   "cell_type": "code",
   "execution_count": 1,
   "id": "81e1807c-0351-40b5-88da-ae877809e544",
   "metadata": {
    "scrolled": true
   },
   "outputs": [
    {
     "name": "stdout",
     "output_type": "stream",
     "text": [
      "Welcome to my Shop!\n",
      "\n",
      "Books Datiels Available Stack!\n",
      "\n",
      "Books                Price      Quantity  \n",
      "----------------------------------------\n",
      "Math                 2500       10        \n",
      "English              1500       22        \n",
      "Urdu                 1000       30        \n",
      "Phy                  2000       33        \n"
     ]
    },
    {
     "name": "stdin",
     "output_type": "stream",
     "text": [
      "\n",
      "Enter a book you want order, If order finish then Enter 'done' math\n",
      "Math Book Quantity: 9\n",
      "\n",
      "Enter a book you want order, If order finish then Enter 'done' math\n",
      "Math Book Quantity: 3\n"
     ]
    },
    {
     "name": "stdout",
     "output_type": "stream",
     "text": [
      "Insuffiction Stock for Math.Available quantity:1\n"
     ]
    },
    {
     "name": "stdin",
     "output_type": "stream",
     "text": [
      "\n",
      "Enter a book you want order, If order finish then Enter 'done' urdu\n",
      "Urdu Book Quantity: 18\n",
      "\n",
      "Enter a book you want order, If order finish then Enter 'done' phy\n",
      "Phy Book Quantity: 24\n",
      "\n",
      "Enter a book you want order, If order finish then Enter 'done' english\n",
      "English Book Quantity: 30\n"
     ]
    },
    {
     "name": "stdout",
     "output_type": "stream",
     "text": [
      "Insuffiction Stock for English.Available quantity:22\n"
     ]
    },
    {
     "name": "stdin",
     "output_type": "stream",
     "text": [
      "\n",
      "Enter a book you want order, If order finish then Enter 'done' english\n",
      "English Book Quantity: 20\n",
      "\n",
      "Enter a book you want order, If order finish then Enter 'done' English\n",
      "English Book Quantity: 9\n"
     ]
    },
    {
     "name": "stdout",
     "output_type": "stream",
     "text": [
      "Insuffiction Stock for English.Available quantity:2\n"
     ]
    },
    {
     "name": "stdin",
     "output_type": "stream",
     "text": [
      "\n",
      "Enter a book you want order, If order finish then Enter 'done' done\n"
     ]
    },
    {
     "name": "stdout",
     "output_type": "stream",
     "text": [
      "\n",
      "Your Order Summary!\n",
      "\n",
      "Book                 Quantity    Price      total_price \n",
      "------------------------------------------------------------\n",
      "Math                  9           2500       22500     \n",
      "Urdu                  18          1000       18000     \n",
      "Phy                   24          2000       48000     \n",
      "English               20          1500       30000     \n",
      "\n",
      "Total Cost of Order: 118500 Rs\n",
      "\n",
      "Current Available Stock:\n",
      "\n",
      "Book                 Quantity  \n",
      "------------------------------\n",
      "Math                 1         \n",
      "English              2         \n",
      "Urdu                 12        \n",
      "Phy                  9         \n",
      "\n",
      "Thank you for your order!\n"
     ]
    }
   ],
   "source": [
    "books ={\n",
    "    \"math\" : {\"price\" : 2500, \"quantity\" : 10},\n",
    "    \"english\" : {\"price\" : 1500, \"quantity\" : 22},\n",
    "    \"urdu\" : {\"price\" : 1000, \"quantity\" : 30},\n",
    "    \"phy\" : {\"price\" : 2000, \"quantity\" : 33}\n",
    "}\n",
    "def take_order(): \n",
    "    order = {}\n",
    "    print(\"Books Datiels Available Stack!\\n\")\n",
    "    print(f\"{'Books':<20} {'Price':<10} {'Quantity':<10}\")\n",
    "    print(\"-\" * 40)\n",
    "    for book , datial in books.items():\n",
    "        print(f\"{book.capitalize():<20} {datial['price']:<10} {datial['quantity']:<10}\")\n",
    "        continue \n",
    "    while True:\n",
    "        book = input(\"\\nEnter a book you want order, If order finish then Enter 'done'\").lower()\n",
    "        if book == \"done\": \n",
    "            break\n",
    "        if book not in books:\n",
    "            print(f\"Sorry {book.capitalize()} not available.Plz cheacks stock list {books}\")\n",
    "            continue\n",
    "        qty = int(input(f\"{book.capitalize()} Book Quantity:\"))\n",
    "        if qty > books[book]['quantity']:\n",
    "            print(f\"Insuffiction Stock for {book.capitalize()}.Available quantity:{books[book]['quantity']}\")\n",
    "            continue\n",
    "        if book in order:\n",
    "            order[book] += qty\n",
    "        else:\n",
    "            order[book] = qty\n",
    "        books[book]['quantity'] -= qty\n",
    "    return order\n",
    "def available_stock():\n",
    "    print(\"\\nCurrent Available Stock:\\n\")\n",
    "    print(f\"{'Book':<20} {'Quantity':<10}\")\n",
    "    print(\"-\" * 30)\n",
    "    for book, detail in books.items():\n",
    "        print(f\"{book.capitalize():<20} {detail['quantity']:<10}\")\n",
    "\n",
    "def total_order(order):\n",
    "    total = 0\n",
    "    print(\"\\nYour Order Summary!\\n\")\n",
    "    print(f\"{'Book':<20} {'Quantity':<10}  {'Price':<10} {'total_price':<10} \")\n",
    "    print(\"-\" * 60)\n",
    "    for book, qty in order.items():\n",
    "        total_price = qty * books[book]['price']\n",
    "        print(f\"{book.capitalize():<20}  {qty:<10}  {books[book]['price']:<10} {total_price:<10}\")\n",
    "        total += total_price\n",
    "    print(\"\\nTotal Cost of Order:\", total, \"Rs\")\n",
    "    \n",
    "if __name__ == \"__main__\":\n",
    "    print(\"Welcome to my Shop!\\n\")\n",
    "total_order(take_order())\n",
    "available_stock()\n",
    "print(\"\\nThank you for your order!\")"
   ]
  },
  {
   "cell_type": "code",
   "execution_count": null,
   "id": "96bcc0f5-6a98-4fff-8883-9c315c20d9cf",
   "metadata": {},
   "outputs": [],
   "source": []
  }
 ],
 "metadata": {
  "kernelspec": {
   "display_name": "Python 3 (ipykernel)",
   "language": "python",
   "name": "python3"
  },
  "language_info": {
   "codemirror_mode": {
    "name": "ipython",
    "version": 3
   },
   "file_extension": ".py",
   "mimetype": "text/x-python",
   "name": "python",
   "nbconvert_exporter": "python",
   "pygments_lexer": "ipython3",
   "version": "3.11.7"
  },
  "widgets": {
   "application/vnd.jupyter.widget-state+json": {
    "state": {},
    "version_major": 2,
    "version_minor": 0
   }
  }
 },
 "nbformat": 4,
 "nbformat_minor": 5
}
