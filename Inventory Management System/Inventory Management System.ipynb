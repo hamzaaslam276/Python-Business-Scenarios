{
 "cells": [
  {
   "cell_type": "markdown",
   "id": "3ce5142b-c89e-43cf-9794-73a85228bc4e",
   "metadata": {},
   "source": [
    "Imagine you are running a small retail store, and you want to create a simple inventory management system using Python. This system should help you track the quantity of each product in stock, update inventory levels when sales are made, and generate reports on low-stock items. \n",
    "\n",
    "Problem Statement You have a list of products, each with a unique product ID, name, and quantity in stock. You need to:"
   ]
  },
  {
   "cell_type": "code",
   "execution_count": 1,
   "id": "3ab128a0-2727-4e5f-9938-a742ab13285a",
   "metadata": {
    "scrolled": true
   },
   "outputs": [
    {
     "name": "stdout",
     "output_type": "stream",
     "text": [
      "Added Apples : Qty 111.\n",
      "Added Bananas : Qty 222.\n",
      "Added Mangos : Qty 333.\n",
      "Added Bananas : Qty 2, Total Qty : 224 \n",
      "\n",
      "Current Inventory List:\n",
      "Apples: 111 Qty\n",
      "Bananas: 224 Qty\n",
      "Mangos: 333 Qty\n",
      "Sold 11 Qty of Apples.\n",
      "Sold 22 Qty of Bananas.\n",
      "Sold 33 Qty of Mangos.\n",
      "Insufficient stock for Mangos. Only 300 Qty available.\n",
      "Sold 190 Qty of Bananas.\n",
      "Orange does not exist in the inventory List.\n",
      "\n",
      "Current Inventory List:\n",
      "Apples: 100 Qty\n",
      "Bananas: 12 Qty\n",
      "Mangos: 300 Qty\n",
      "\n",
      "Low Stock Report (Threshold: 20 Qty):\n",
      "Bananas: 12 Qty\n"
     ]
    }
   ],
   "source": [
    "# Inventory Management System\n",
    "\n",
    "# Initial inventory List\n",
    "inventory_list = {}\n",
    "\n",
    "# Function to add new item to inventory_list \n",
    "def add_item(name, qty):\n",
    "    if name in inventory_list: \n",
    "        inventory_list[name] += qty\n",
    "        print(f\"Added {name} : Qty {qty}, Total Qty : {inventory_list[name]} \")\n",
    "    else:\n",
    "        inventory_list[name] = qty\n",
    "        print(f\"Added {name} : Qty {qty}.\")\n",
    "\n",
    "# Function to view the inventory_list \n",
    "def view_inventory_list():\n",
    "    print(\"\\nCurrent Inventory List:\")\n",
    "    for item , qty in inventory_list.items():\n",
    "        print(f\"{item}: {qty} Qty\")\n",
    "    \n",
    "\n",
    "# Function to update stock when a sale is made\n",
    "def sell_item(name, qty_sold):\n",
    "    if name not in inventory_list:\n",
    "        print(f\"{name} does not exist in the inventory List.\")\n",
    "    elif inventory_list[name] < qty_sold:\n",
    "        print(f\"Insufficient stock for {name}. Only {inventory_list[name]} Qty available.\")\n",
    "    else:\n",
    "        inventory_list[name] -= qty_sold\n",
    "        print(f\"Sold {qty_sold} Qty of {name}.\")\n",
    "        \n",
    "# Function to generate a low stock report\n",
    "def low_stock_report(threshold):\n",
    "    print(f\"\\nLow Stock Report (Threshold: {threshold} Qty):\")\n",
    "    for item, qty in inventory_list.items():\n",
    "        if qty <= threshold:\n",
    "            print(f\"{item}: {qty} Qty\")\n",
    "\n",
    "\n",
    "# Adding item to inventory\n",
    "add_item(\"Apples\", 111)\n",
    "add_item(\"Bananas\", 222)\n",
    "add_item(\"Mangos\", 333)\n",
    "add_item(\"Bananas\", 2)\n",
    "    \n",
    "# View the inventory List \n",
    "view_inventory_list()\n",
    "    \n",
    "# Selling some item\n",
    "sell_item(\"Apples\", 11)\n",
    "sell_item(\"Bananas\", 22)\n",
    "sell_item(\"Mangos\", 33)  \n",
    "sell_item(\"Mangos\", 333)   \n",
    "sell_item(\"Bananas\", 190) \n",
    "sell_item(\"Orange\", 22)   # Exceeds stock\n",
    "\n",
    "# View inventory List after sales\n",
    "view_inventory_list()\n",
    "    \n",
    "# Generate low stock report with threshold\n",
    "low_stock_report(20)\n"
   ]
  },
  {
   "cell_type": "code",
   "execution_count": null,
   "id": "a7a81dc8-7de8-42c5-83fe-4abed638bfb1",
   "metadata": {},
   "outputs": [],
   "source": []
  }
 ],
 "metadata": {
  "kernelspec": {
   "display_name": "Python 3 (ipykernel)",
   "language": "python",
   "name": "python3"
  },
  "language_info": {
   "codemirror_mode": {
    "name": "ipython",
    "version": 3
   },
   "file_extension": ".py",
   "mimetype": "text/x-python",
   "name": "python",
   "nbconvert_exporter": "python",
   "pygments_lexer": "ipython3",
   "version": "3.11.7"
  },
  "widgets": {
   "application/vnd.jupyter.widget-state+json": {
    "state": {},
    "version_major": 2,
    "version_minor": 0
   }
  }
 },
 "nbformat": 4,
 "nbformat_minor": 5
}
