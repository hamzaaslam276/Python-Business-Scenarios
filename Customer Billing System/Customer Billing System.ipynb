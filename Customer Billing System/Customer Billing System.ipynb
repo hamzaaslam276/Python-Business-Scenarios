{
 "cells": [
  {
   "cell_type": "markdown",
   "id": "873aff4c-8326-4eff-aa89-e9a84200ef43",
   "metadata": {},
   "source": [
    "Scenario 1\n",
    "Business Scenario: Customer Billing System for a Coffee Shop\n",
    "Imagine you are running a coffee shop, and you want to create a simple billing system to calculate the total bill for a customer based on their order. The system should allow the customer to choose from the available menu items, specify the quantity, calculate the total cost, apply discounts (if applicable), and generate a bill.\n",
    "\n",
    "Problem Statement\n",
    "You need to:\n",
    "\n",
    "Maintain a menu of items with their prices.\n",
    "Allow the customer to order multiple items with specified quantities.\n",
    "Calculate the total bill for the order.\n",
    "Apply discounts based on the total amount.\n",
    "Generate and display the bill for the customer."
   ]
  },
  {
   "cell_type": "code",
   "execution_count": 1,
   "id": "5e43d116-44ed-4b3c-8dd7-786a3bf35fb2",
   "metadata": {},
   "outputs": [
    {
     "name": "stdout",
     "output_type": "stream",
     "text": [
      "Welcome to the Coffee Shop Billing System!\n",
      "\n",
      "Menu:\n",
      "Coffee : Price 130.0 Rs:\n",
      "Tea : Price 100.0 Rs:\n",
      "Green tea : Price 150.0 Rs:\n",
      "Black tea : Price 200.0 Rs:\n",
      "\n",
      "If your orders above 1000Rs then 10% discount applied.\n",
      "\n"
     ]
    },
    {
     "name": "stdin",
     "output_type": "stream",
     "text": [
      "Enter the item you want to order:(If order finish than Enter 'done') coffee\n",
      "Enter Quanitity of coffee: 2\n",
      "Enter the item you want to order:(If order finish than Enter 'done') tea\n",
      "Enter Quanitity of tea: 3\n",
      "Enter the item you want to order:(If order finish than Enter 'done') gree tea\n"
     ]
    },
    {
     "name": "stdout",
     "output_type": "stream",
     "text": [
      "Sorry gree tea is not available.Please choose another item {'coffee': 130.0, 'tea': 100.0, 'green tea': 150.0, 'black tea': 200.0}\n"
     ]
    },
    {
     "name": "stdin",
     "output_type": "stream",
     "text": [
      "Enter the item you want to order:(If order finish than Enter 'done') green tea\n",
      "Enter Quanitity of green tea: 4\n",
      "Enter the item you want to order:(If order finish than Enter 'done') black tea\n",
      "Enter Quanitity of black tea: 3\n",
      "Enter the item you want to order:(If order finish than Enter 'done') done\n"
     ]
    },
    {
     "name": "stdout",
     "output_type": "stream",
     "text": [
      "\n",
      "Your Order Summary:\n",
      "coffee x 2 = Price 260.0 Rs\n",
      "tea x 3 = Price 300.0 Rs\n",
      "green tea x 4 = Price 600.0 Rs\n",
      "black tea x 3 = Price 600.0 Rs\n",
      "\n",
      "Total Price (Before Discount): 1760.0 Rs\n",
      "Discount Applied: 176.0 Rs\n",
      "Total Price (After Discount 10%) : 1584.0 Rs\n",
      "\n",
      "Thank you for your order!\n"
     ]
    }
   ],
   "source": [
    "# Step 1: Menu of items with prices\n",
    "menu = {\n",
    "    'coffee': 130.0, \n",
    "    'tea': 100.0,\n",
    "    'green tea': 150.0,\n",
    "    'black tea': 200.0\n",
    "}\n",
    "# Step 2: Function to take customer order\n",
    "def take_order(): \n",
    "    order = {}\n",
    "    print(\"Menu:\")\n",
    "    for item, price in menu.items(): \n",
    "        print(f\"{item.capitalize()} : Price {price} Rs:\")\n",
    "        continue\n",
    "    print(\"\\nIf your orders above 1000Rs then 10% discount applied.\\n\")\n",
    "    while True:\n",
    "        item = input(f\"Enter the item you want to order:(If order finish than Enter 'done')\").lower()\n",
    "        if item == \"done\":\n",
    "            break\n",
    "        if item not in menu: \n",
    "            print(f\"Sorry {item} is not available.Please choose another item {menu}\")\n",
    "            continue\n",
    "        quanitity = int(input(f\"Enter Quanitity of {item}:\"))\n",
    "        if item in order:\n",
    "            order[item] += quanitity\n",
    "        else:\n",
    "            order[item] = quanitity\n",
    "    return order\n",
    "\n",
    "# Step 3: Function to calculate total bill\n",
    "def calculate_total(order):\n",
    "    total = 0\n",
    "    print(\"\\nYour Order Summary:\")\n",
    "    for item , quanitity in order.items(): \n",
    "        total_price = menu[item] * quanitity\n",
    "        print(f\"{item} x {quanitity} = Price {total_price} Rs\")\n",
    "        total += total_price\n",
    "    print(f\"\\nTotal Price (Before Discount): {total} Rs\") \n",
    "    if total > 1000: \n",
    "        discount = 0.1 * total   # 10% discount for orders above 1000Rs\n",
    "        print(f\"Discount Applied: {discount} Rs\")\n",
    "        print(f\"Total Price (After Discount 10%) : {total - discount} Rs\")\n",
    "    else:\n",
    "        print(f\"\\nTotal Price(After Discount) : {total} Rs\")\n",
    "    return \n",
    "    \n",
    "if __name__ == \"__main__\":\n",
    "    print(\"Welcome to the Coffee Shop Billing System!\\n\")\n",
    "\n",
    "calculate_total(take_order())\n",
    "print(\"\\nThank you for your order!\")"
   ]
  },
  {
   "cell_type": "code",
   "execution_count": null,
   "id": "d983aede-9339-46c0-9f87-686185b91521",
   "metadata": {},
   "outputs": [],
   "source": []
  }
 ],
 "metadata": {
  "kernelspec": {
   "display_name": "Python 3 (ipykernel)",
   "language": "python",
   "name": "python3"
  },
  "language_info": {
   "codemirror_mode": {
    "name": "ipython",
    "version": 3
   },
   "file_extension": ".py",
   "mimetype": "text/x-python",
   "name": "python",
   "nbconvert_exporter": "python",
   "pygments_lexer": "ipython3",
   "version": "3.11.7"
  },
  "widgets": {
   "application/vnd.jupyter.widget-state+json": {
    "state": {},
    "version_major": 2,
    "version_minor": 0
   }
  }
 },
 "nbformat": 4,
 "nbformat_minor": 5
}
